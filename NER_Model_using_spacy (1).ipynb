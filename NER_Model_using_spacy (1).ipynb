{
  "nbformat": 4,
  "nbformat_minor": 0,
  "metadata": {
    "colab": {
      "provenance": []
    },
    "kernelspec": {
      "name": "python3",
      "display_name": "Python 3"
    },
    "language_info": {
      "name": "python"
    }
  },
  "cells": [
    {
      "cell_type": "markdown",
      "source": [
        "**# Task: Build and Deploy a Named Entity Recognition (NER) Model.**"
      ],
      "metadata": {
        "id": "EQi4pXUQHG0t"
      }
    },
    {
      "cell_type": "code",
      "source": [
        "# Import the neccesary libraries\n",
        "import pandas as pd #Data manipulation and analysis using DataFrames.\n",
        "import spacy #Core NLP library for NER model creation, training, and saving.\n",
        "import matplotlib.pyplot as plt #Creating static visualizations like plots and histograms.\n",
        "import seaborn as sns #Enhancing the visual appeal and informativeness of plots.\n",
        "from spacy.tokens import DocBin #Efficiently storing and loading spaCy Doc objects.\n",
        "import nltk # Preprocessing text data with tools like stop word removal and lemmatization.\n",
        "from nltk.corpus import stopwords #Providing lists of stop words in various languages.\n",
        "from nltk.stem import WordNetLemmatizer #Reducing words to their base form using lemmatization."
      ],
      "metadata": {
        "id": "3pKvzunh8-22"
      },
      "execution_count": 1,
      "outputs": []
    },
    {
      "cell_type": "code",
      "source": [
        " from google.colab import drive\n",
        "drive.mount('/content/drive')\n"
      ],
      "metadata": {
        "colab": {
          "base_uri": "https://localhost:8080/"
        },
        "id": "3ghf1_0v8-r3",
        "outputId": "e56e273d-e3aa-4b33-846a-51944e079338"
      },
      "execution_count": 2,
      "outputs": [
        {
          "output_type": "stream",
          "name": "stdout",
          "text": [
            "Mounted at /content/drive\n"
          ]
        }
      ]
    },
    {
      "cell_type": "markdown",
      "source": [
        "# **Data loading**"
      ],
      "metadata": {
        "id": "lta9JJHCINK4"
      }
    },
    {
      "cell_type": "markdown",
      "source": [
        "Load the \"ner_dataset.csv\" file into a pandas DataFrame and display the first few rows."
      ],
      "metadata": {
        "id": "E_DCRlXVIbVf"
      }
    },
    {
      "cell_type": "code",
      "source": [
        "# Load the dataset\n",
        "df = pd.read_csv('/content/drive/MyDrive/NER MODEL/NER dataset.csv', encoding='latin1')\n",
        "\n",
        "# Print some info about the dataset (optional)\n",
        "print(df.head())\n",
        "print(df.info())\n"
      ],
      "metadata": {
        "colab": {
          "base_uri": "https://localhost:8080/"
        },
        "id": "iZHdThmh8-uU",
        "outputId": "3873d794-9cb3-4ee6-f8ec-784e110f19d8"
      },
      "execution_count": 3,
      "outputs": [
        {
          "output_type": "stream",
          "name": "stdout",
          "text": [
            "    Sentence #           Word  POS Tag\n",
            "0  Sentence: 1      Thousands  NNS   O\n",
            "1          NaN             of   IN   O\n",
            "2          NaN  demonstrators  NNS   O\n",
            "3          NaN           have  VBP   O\n",
            "4          NaN        marched  VBN   O\n",
            "<class 'pandas.core.frame.DataFrame'>\n",
            "RangeIndex: 1048575 entries, 0 to 1048574\n",
            "Data columns (total 4 columns):\n",
            " #   Column      Non-Null Count    Dtype \n",
            "---  ------      --------------    ----- \n",
            " 0   Sentence #  47959 non-null    object\n",
            " 1   Word        1048565 non-null  object\n",
            " 2   POS         1048575 non-null  object\n",
            " 3   Tag         1048575 non-null  object\n",
            "dtypes: object(4)\n",
            "memory usage: 32.0+ MB\n",
            "None\n"
          ]
        }
      ]
    },
    {
      "cell_type": "markdown",
      "source": [
        "# **Data exploration**"
      ],
      "metadata": {
        "id": "I86Q0g4EJCB7"
      }
    },
    {
      "cell_type": "markdown",
      "source": [
        " Explore the loaded dataset to understand its structure, identify missing values, and analyze the distribution of entities.\n",
        "\n",
        " Explore the dataset by examining its shape, data types, missing values, entity distribution, and unique sentence counts, as instructed."
      ],
      "metadata": {
        "id": "yFDcjbtnJZGw"
      }
    },
    {
      "cell_type": "code",
      "source": [
        "# Examine the DataFrame's shape and data types\n",
        "print(\"DataFrame Shape:\", df.shape)\n",
        "print(\"\\nDataFrame Info:\")\n",
        "print(df.info())\n",
        "\n",
        "# Check for missing values\n",
        "missing_values = df.isnull().sum()\n",
        "print(\"\\nMissing Values per Column:\\n\", missing_values)"
      ],
      "metadata": {
        "colab": {
          "base_uri": "https://localhost:8080/"
        },
        "id": "u7ywR1L68-xE",
        "outputId": "fdbb36ba-8b00-49d1-fff9-0b38b10a012b"
      },
      "execution_count": 4,
      "outputs": [
        {
          "output_type": "stream",
          "name": "stdout",
          "text": [
            "DataFrame Shape: (1048575, 4)\n",
            "\n",
            "DataFrame Info:\n",
            "<class 'pandas.core.frame.DataFrame'>\n",
            "RangeIndex: 1048575 entries, 0 to 1048574\n",
            "Data columns (total 4 columns):\n",
            " #   Column      Non-Null Count    Dtype \n",
            "---  ------      --------------    ----- \n",
            " 0   Sentence #  47959 non-null    object\n",
            " 1   Word        1048565 non-null  object\n",
            " 2   POS         1048575 non-null  object\n",
            " 3   Tag         1048575 non-null  object\n",
            "dtypes: object(4)\n",
            "memory usage: 32.0+ MB\n",
            "None\n",
            "\n",
            "Missing Values per Column:\n",
            " Sentence #    1000616\n",
            "Word               10\n",
            "POS                 0\n",
            "Tag                 0\n",
            "dtype: int64\n"
          ]
        }
      ]
    },
    {
      "cell_type": "code",
      "source": [
        "# Analyze entity distribution\n",
        "entity_counts = df['Tag'].value_counts()\n",
        "print(\"\\nEntity Distribution:\\n\", entity_counts)\n",
        "plt.figure(figsize=(10, 6))\n",
        "sns.countplot(x='Tag', data=df)\n",
        "plt.title('Distribution of Entities')\n",
        "plt.xticks(rotation=90)\n",
        "plt.xlabel('Entity Tag')\n",
        "plt.ylabel('Frequency')\n",
        "plt.show()\n",
        "\n",
        "# Inspect unique sentence count\n",
        "unique_sentences = df['Sentence #'].nunique()\n",
        "print(f\"\\nNumber of unique sentences: {unique_sentences}\")\n",
        "\n",
        "# Analyze sentence length distribution (optional, but informative)\n",
        "sentence_lengths = df.groupby('Sentence #')['Word'].count()\n",
        "plt.figure(figsize=(10, 6))\n",
        "plt.hist(sentence_lengths, bins=20)\n",
        "plt.title('Distribution of Sentence Lengths')\n",
        "plt.xlabel('Sentence Length')\n",
        "plt.ylabel('Frequency')\n",
        "plt.show()"
      ],
      "metadata": {
        "colab": {
          "base_uri": "https://localhost:8080/",
          "height": 1000
        },
        "id": "8zarF_Re8-z-",
        "outputId": "6c8f0c9d-9ad6-48f9-9794-b19c85f8ab63"
      },
      "execution_count": 5,
      "outputs": [
        {
          "output_type": "stream",
          "name": "stdout",
          "text": [
            "\n",
            "Entity Distribution:\n",
            " Tag\n",
            "O        887908\n",
            "B-geo     37644\n",
            "B-tim     20333\n",
            "B-org     20143\n",
            "I-per     17251\n",
            "B-per     16990\n",
            "I-org     16784\n",
            "B-gpe     15870\n",
            "I-geo      7414\n",
            "I-tim      6528\n",
            "B-art       402\n",
            "B-eve       308\n",
            "I-art       297\n",
            "I-eve       253\n",
            "B-nat       201\n",
            "I-gpe       198\n",
            "I-nat        51\n",
            "Name: count, dtype: int64\n"
          ]
        },
        {
          "output_type": "display_data",
          "data": {
            "text/plain": [
              "<Figure size 1000x600 with 1 Axes>"
            ],
            "image/png": "[encoded data removed]"
          },
          "metadata": {}
        },
        {
          "output_type": "stream",
          "name": "stdout",
          "text": [
            "\n",
            "Number of unique sentences: 47959\n"
          ]
        },
        {
          "output_type": "display_data",
          "data": {
            "text/plain": [
              "<Figure size 1000x600 with 1 Axes>"
            ],
            "image/png": "[encoded data removed]"
          },
          "metadata": {}
        }
      ]
    },
    {
      "cell_type": "markdown",
      "source": [
        "# Data preparation"
      ],
      "metadata": {
        "id": "Ut62SeFLJvRB"
      }
    },
    {
      "cell_type": "markdown",
      "source": [
        "Prepare the data for training the NER model.\n",
        "\n",
        "Fill missing values in 'Sentence #' column, preprocess the text data (lowercase conversion, stop word removal, lemmatization), tokenize the text, create entity labels, and convert the data into the DocBin format for SpaCy NER model training."
      ],
      "metadata": {
        "id": "mN8ocQ2HJ117"
      }
    },
    {
      "cell_type": "code",
      "source": [
        "import nltk\n",
        "nltk.download('stopwords')\n",
        "nltk.download('wordnet') # Download the wordnet dataset\n",
        "import spacy\n",
        "from spacy.tokens import DocBin\n",
        "import nltk\n",
        "from nltk.corpus import stopwords\n",
        "from nltk.stem import WordNetLemmatizer\n",
        "\n",
        "nlp = spacy.blank(\"en\")\n",
        "lemmatizer = WordNetLemmatizer()\n",
        "stop_words = set(stopwords.words('english'))\n",
        "doc_bin = DocBin()\n",
        "\n",
        "# Group data by sentence\n",
        "sentences = df.groupby('Sentence #')\n",
        "\n",
        "for sentence_num, sentence_df in sentences:\n",
        "    words = sentence_df['Word'].tolist()\n",
        "    tags = sentence_df['Tag'].tolist()\n",
        "\n",
        "    # Preprocess the words and update tags accordingly\n",
        "    preprocessed_words = []\n",
        "    preprocessed_tags = []  # Create a new list for preprocessed tags\n",
        "    for i, word in enumerate(words):\n",
        "        # Check if the word is a string before applying lower()\n",
        "        if isinstance(word, str):\n",
        "            word = word.lower()\n",
        "            if word not in stop_words:\n",
        "                word = lemmatizer.lemmatize(word)\n",
        "                preprocessed_words.append(word)\n",
        "                preprocessed_tags.append(tags[i])  # Add the corresponding tag\n",
        "        # Handle non-string values (e.g., NaN) - you might want to skip or replace them\n",
        "        else:\n",
        "          # For example, you could skip non-string words:\n",
        "          #pass\n",
        "            # Or replace them with a placeholder:\n",
        "            preprocessed_words.append(\"<UNK>\")  # Replace with a suitable placeholder\n",
        "            preprocessed_tags.append(tags[i]) #Add the corresponding tag\n",
        "\n",
        "    # Recreate the dataframe with preprocessed words and tags\n",
        "    preprocessed_sentence_df = pd.DataFrame({'Word': preprocessed_words, 'Tag': preprocessed_tags})\n",
        "\n",
        "    # ... (rest of your code)\n",
        "    words = preprocessed_sentence_df['Word'].values.tolist()\n",
        "    tags = preprocessed_sentence_df['Tag'].values.tolist()\n",
        "\n",
        "    # Create Doc object\n",
        "    doc = nlp.make_doc(\" \".join(words))\n",
        "    ents = []\n",
        "\n",
        "    # Create entities\n",
        "    start_char = 0\n",
        "    for i, word in enumerate(words):\n",
        "      end_char = start_char + len(word)\n",
        "      if tags[i] != \"O\":\n",
        "          ents.append(spacy.tokens.Span(doc, i, i + 1, label=tags[i]))\n",
        "      start_char = end_char + 1  # Add 1 for space\n",
        "\n",
        "    doc.ents = ents\n",
        "\n",
        "    # Add to DocBin\n",
        "    doc_bin.add(doc)\n",
        "\n",
        "# Save DocBin\n",
        "doc_bin.to_disk(\"training_data.spacy\")"
      ],
      "metadata": {
        "colab": {
          "base_uri": "https://localhost:8080/"
        },
        "id": "2VGMKXfWWQ6B",
        "outputId": "e9952b0e-7d28-4c41-b624-860ba3971fae"
      },
      "execution_count": 6,
      "outputs": [
        {
          "output_type": "stream",
          "name": "stderr",
          "text": [
            "[nltk_data] Downloading package stopwords to /root/nltk_data...\n",
            "[nltk_data]   Unzipping corpora/stopwords.zip.\n",
            "[nltk_data] Downloading package wordnet to /root/nltk_data...\n"
          ]
        }
      ]
    },
    {
      "cell_type": "markdown",
      "source": [
        "# **Data splitting**"
      ],
      "metadata": {
        "id": "UJU1sLHrKpif"
      }
    },
    {
      "cell_type": "markdown",
      "source": [
        "Split the prepared data (training_data.spacy) into training and testing sets.\n",
        "\n",
        "Load the DocBin from the \"training_data.spacy\" file and split it into training and development sets. Then save these sets into separate .spacy files."
      ],
      "metadata": {
        "id": "oQuv-rfmKu9u"
      }
    },
    {
      "cell_type": "code",
      "source": [
        "from spacy.tokens import DocBin\n",
        "\n",
        "try:\n",
        "    # Load the DocBin\n",
        "    doc_bin = DocBin().from_disk(\"training_data.spacy\")\n",
        "    docs = list(doc_bin.get_docs(nlp.vocab))\n",
        "\n",
        "    # Calculate the split index (80% train, 20% dev)\n",
        "    split_index = int(0.8 * len(docs))\n",
        "\n",
        "    # Split the data\n",
        "    train_docs = docs[:split_index]\n",
        "    dev_docs = docs[split_index:]\n",
        "\n",
        "    # Create new DocBins for train and dev sets\n",
        "    train_docbin = DocBin(docs=train_docs)\n",
        "    dev_docbin = DocBin(docs=dev_docs)\n",
        "\n",
        "    # Save the train and dev sets\n",
        "    train_docbin.to_disk(\"train.spacy\")\n",
        "    dev_docbin.to_disk(\"dev.spacy\")\n",
        "\n",
        "except Exception as e:\n",
        "    print(f\"An error occurred: {e}\")"
      ],
      "metadata": {
        "id": "Im_fdvE4-sQO"
      },
      "execution_count": 7,
      "outputs": []
    },
    {
      "cell_type": "markdown",
      "source": [
        "# **Model training**"
      ],
      "metadata": {
        "id": "tQXZsEltLALa"
      }
    },
    {
      "cell_type": "markdown",
      "source": [
        "Train a Named Entity Recognition (NER) model using spaCy.\n",
        "\n",
        "Train a spaCy NER model using the prepared training and development data.\n"
      ],
      "metadata": {
        "id": "VHiZktUQLCWQ"
      }
    },
    {
      "cell_type": "code",
      "source": [
        "import spacy\n",
        "from spacy.training import Example\n",
        "from spacy.util import minibatch, compounding\n",
        "import random\n",
        "import os\n",
        "\n",
        "try:\n",
        "    # Load spaCy's blank English model\n",
        "    nlp = spacy.blank(\"en\")\n",
        "\n",
        "    # Create and add the NER pipeline component correctly\n",
        "    if \"ner\" not in nlp.pipe_names:\n",
        "        ner = nlp.add_pipe(\"ner\", last=True)\n",
        "    else:\n",
        "        ner = nlp.get_pipe(\"ner\")\n",
        "\n",
        "    # Ensure dataset is available\n",
        "    if \"df\" not in locals():\n",
        "        raise ValueError(\"Dataset 'df' not found. Ensure the dataframe is loaded.\")\n",
        "\n",
        "    # Add entity labels\n",
        "    for _, annotations in df.groupby(\"Sentence #\"):\n",
        "        for ent in annotations[\"Tag\"].unique():\n",
        "            if ent != \"O\":\n",
        "                ner.add_label(ent)\n",
        "\n",
        "    # Prepare training data\n",
        "    train_data = []\n",
        "    for _, row in df.groupby(\"Sentence #\"):\n",
        "        # Convert the 'Word' column to string type before joining\n",
        "        text = \" \".join(row[\"Word\"].astype(str).tolist())\n",
        "        entities = []\n",
        "        start_char = 0\n",
        "        for _, data in row.iterrows():\n",
        "            word = str(data[\"Word\"]) # Ensure word is a string\n",
        "            label = data[\"Tag\"]\n",
        "            if label != \"O\":\n",
        "                entities.append((start_char, start_char + len(word), label))\n",
        "            start_char += len(word) + 1  # +1 for space\n",
        "        train_data.append((text, {\"entities\": entities}))\n",
        "\n",
        "    # Shuffle and split data (80% training, 20% validation)\n",
        "    random.shuffle(train_data)\n",
        "    split_index = int(0.8 * len(train_data))\n",
        "\n",
        "    train_examples = [Example.from_dict(nlp.make_doc(text), ann) for text, ann in train_data[:split_index]]\n",
        "    dev_examples = [Example.from_dict(nlp.make_doc(text), ann) for text, ann in train_data[split_index:]]\n",
        "\n",
        "    # Training configuration\n",
        "    output_dir = \"/content/drive/MyDrive/NER MODEL\"\n",
        "    n_iter = 30  # Increased iterations for better learning\n",
        "\n",
        "    # Train the model (optimized training loop)\n",
        "    other_pipes = [pipe for pipe in nlp.pipe_names if pipe != \"ner\"]\n",
        "    with nlp.disable_pipes(*other_pipes):\n",
        "        optimizer = nlp.initialize()  # FIXED optimizer initialization\n",
        "        for i in range(n_iter):\n",
        "            losses = {}\n",
        "            random.shuffle(train_examples)\n",
        "            batches = minibatch(train_examples, size=compounding(8.0, 32.0, 1.005))  # Adjust batch size\n",
        "            for batch in batches:\n",
        "                nlp.update(batch, losses=losses, drop=0.3)  # FIXED optimizer call (no explicit argument)\n",
        "            print(f\"Iteration {i+1}/{n_iter}, Loss: {losses}\")\n",
        "\n",
        "    # Evaluate the model\n",
        "    scores = nlp.evaluate(dev_examples)  # FIXED evaluation method\n",
        "    print(f\"Precision: {scores['ents_p']:.4f}\")\n",
        "    print(f\"Recall: {scores['ents_r']:.4f}\")\n",
        "    print(f\"F1-score: {scores['ents_f']:.4f}\")\n",
        "\n",
        "    # Save the model\n",
        "    os.makedirs(output_dir, exist_ok=True)\n",
        "    nlp.to_disk(output_dir)\n",
        "    print(f\"Model saved to {output_dir}\")\n",
        "\n",
        "except Exception as e:\n",
        "    print(f\"An error occurred during training: {e}\")"
      ],
      "metadata": {
        "colab": {
          "base_uri": "https://localhost:8080/"
        },
        "id": "PQRn-oWm-sSq",
        "outputId": "23caed28-1643-4200-fd51-bc24498b9634"
      },
      "execution_count": 8,
      "outputs": [
        {
          "output_type": "stream",
          "name": "stdout",
          "text": [
            "Iteration 1/30, Loss: {'ner': 7096.909746930322}\n",
            "Iteration 2/30, Loss: {'ner': 5007.685806745919}\n",
            "Iteration 3/30, Loss: {'ner': 4377.758253199201}\n",
            "Iteration 4/30, Loss: {'ner': 4085.551461191742}\n",
            "Iteration 5/30, Loss: {'ner': 3817.0171925713225}\n",
            "Iteration 6/30, Loss: {'ner': 3691.0807278133852}\n",
            "Iteration 7/30, Loss: {'ner': 3592.8771063436266}\n",
            "Iteration 8/30, Loss: {'ner': 3427.2293714313914}\n",
            "Iteration 9/30, Loss: {'ner': 3405.0372466578383}\n",
            "Iteration 10/30, Loss: {'ner': 3323.8905188272756}\n",
            "Iteration 11/30, Loss: {'ner': 3255.7008942027283}\n",
            "Iteration 12/30, Loss: {'ner': 3233.7858213277773}\n",
            "Iteration 13/30, Loss: {'ner': 3222.2107757610365}\n",
            "Iteration 14/30, Loss: {'ner': 3224.9670003571423}\n",
            "Iteration 15/30, Loss: {'ner': 3203.7259539574047}\n",
            "Iteration 16/30, Loss: {'ner': 3176.9971512993175}\n",
            "Iteration 17/30, Loss: {'ner': 3137.6848997764923}\n",
            "Iteration 18/30, Loss: {'ner': 3129.5604528702183}\n",
            "Iteration 19/30, Loss: {'ner': 3136.7948646590407}\n",
            "Iteration 20/30, Loss: {'ner': 3138.428669194141}\n",
            "Iteration 21/30, Loss: {'ner': 3089.8034102430142}\n",
            "Iteration 22/30, Loss: {'ner': 3096.948676539109}\n",
            "Iteration 23/30, Loss: {'ner': 3115.7661342313136}\n",
            "Iteration 24/30, Loss: {'ner': 3093.22392286111}\n",
            "Iteration 25/30, Loss: {'ner': 3059.830710862567}\n",
            "Iteration 26/30, Loss: {'ner': 3075.464909774176}\n",
            "Iteration 27/30, Loss: {'ner': 3042.7287501398073}\n",
            "Iteration 28/30, Loss: {'ner': 3039.196992171838}\n",
            "Iteration 29/30, Loss: {'ner': 3050.662417754207}\n",
            "Iteration 30/30, Loss: {'ner': 3000.884826232384}\n",
            "Precision: 0.8055\n",
            "Recall: 0.7786\n",
            "F1-score: 0.7918\n",
            "Model saved to /content/drive/MyDrive/NER MODEL\n"
          ]
        }
      ]
    },
    {
      "cell_type": "markdown",
      "source": [
        "# **Model optimization**"
      ],
      "metadata": {
        "id": "VEy2PvVdLUen"
      }
    },
    {
      "cell_type": "markdown",
      "source": [
        "Optimize the model to increase model perfromance\n"
      ],
      "metadata": {
        "id": "wuTonUHhLZrK"
      }
    },
    {
      "cell_type": "code",
      "source": [
        "import spacy\n",
        "from spacy.training import Example\n",
        "from spacy.util import minibatch, compounding\n",
        "import random\n",
        "import os\n",
        "\n",
        "try:\n",
        "    # Load spaCy's blank English model\n",
        "    nlp = spacy.blank(\"en\")\n",
        "\n",
        "    # Create and add the NER pipeline component correctly\n",
        "    if \"ner\" not in nlp.pipe_names:\n",
        "        ner = nlp.add_pipe(\"ner\", last=True)\n",
        "    else:\n",
        "        ner = nlp.get_pipe(\"ner\")\n",
        "\n",
        "    # Ensure dataset is available\n",
        "    if \"df\" not in locals():\n",
        "        raise ValueError(\"Dataset 'df' not found. Ensure the dataframe is loaded.\")\n",
        "\n",
        "    # Add entity labels\n",
        "    for _, annotations in df.groupby(\"Sentence #\"):\n",
        "        for ent in annotations[\"Tag\"].unique():\n",
        "            if ent != \"O\":\n",
        "                ner.add_label(ent)\n",
        "\n",
        "    # Prepare training data\n",
        "    train_data = []\n",
        "    for _, row in df.groupby(\"Sentence #\"):\n",
        "        text = \" \".join(row[\"Word\"].tolist())\n",
        "        entities = []\n",
        "        start_char = 0\n",
        "        for _, data in row.iterrows():\n",
        "            word = data[\"Word\"]\n",
        "            label = data[\"Tag\"]\n",
        "            if label != \"O\":\n",
        "                entities.append((start_char, start_char + len(word), label))\n",
        "            start_char += len(word) + 1  # +1 for space\n",
        "        train_data.append((text, {\"entities\": entities}))\n",
        "\n",
        "    # Shuffle and split data (80% training, 20% validation)\n",
        "    random.shuffle(train_data)\n",
        "    split_index = int(0.8 * len(train_data))\n",
        "\n",
        "    train_examples = [Example.from_dict(nlp.make_doc(text), ann) for text, ann in train_data[:split_index]]\n",
        "    dev_examples = [Example.from_dict(nlp.make_doc(text), ann) for text, ann in train_data[split_index:]]\n",
        "\n",
        "    # Training configuration\n",
        "    output_dir = \"output_model\"\n",
        "    n_iter = 30  # Increased iterations for better learning\n",
        "\n",
        "    # Train the model (optimized training loop)\n",
        "    other_pipes = [pipe for pipe in nlp.pipe_names if pipe != \"ner\"]\n",
        "    with nlp.disable_pipes(*other_pipes):\n",
        "        optimizer = nlp.initialize()  # FIXED optimizer initialization\n",
        "        for i in range(n_iter):\n",
        "            losses = {}\n",
        "            random.shuffle(train_examples)\n",
        "            batches = minibatch(train_examples, size=compounding(8.0, 32.0, 1.005))  # Adjust batch size\n",
        "            for batch in batches:\n",
        "                nlp.update(batch, losses=losses, drop=0.3)  # FIXED optimizer call (no explicit argument)\n",
        "            print(f\"Iteration {i+1}/{n_iter}, Loss: {losses}\")\n",
        "\n",
        "    # Evaluate the model\n",
        "    scores = nlp.evaluate(dev_examples)  # FIXED evaluation method\n",
        "    print(f\"Precision: {scores['ents_p']:.4f}\")\n",
        "    print(f\"Recall: {scores['ents_r']:.4f}\")\n",
        "    print(f\"F1-score: {scores['ents_f']:.4f}\")\n",
        "\n",
        "    # Save the model\n",
        "    os.makedirs(output_dir, exist_ok=True)\n",
        "    nlp.to_disk(output_dir)\n",
        "    print(f\"Model saved to {output_dir}\")\n",
        "\n",
        "except Exception as e:\n",
        "    print(f\"An error occurred during training: {e}\")\n"
      ],
      "metadata": {
        "colab": {
          "base_uri": "https://localhost:8080/"
        },
        "id": "qJMzBbhJ-sVX",
        "outputId": "74a22c2f-a478-47a4-ea8c-2283003ae1ce"
      },
      "execution_count": 14,
      "outputs": [
        {
          "output_type": "stream",
          "name": "stdout",
          "text": [
            "An error occurred during training: sequence item 0: expected str instance, float found\n"
          ]
        }
      ]
    },
    {
      "cell_type": "code",
      "source": [
        "# prompt: Save the training model into the pkl format\n",
        "\n",
        "import pickle\n",
        "\n",
        "# Assuming 'nlp' is your trained spaCy model\n",
        "output_dir = \"/content/drive/MyDrive/NER MODEL\" #Specify the directory where you want to save the model\n",
        "\n",
        "# Save the model to a pickle file\n",
        "with open(os.path.join(output_dir, \"ner_model.pkl\"), \"wb\") as f:\n",
        "    pickle.dump(nlp, f)\n",
        "\n",
        "print(f\"Model saved to {os.path.join(output_dir, 'ner_model.pkl')}\")\n"
      ],
      "metadata": {
        "id": "miT-qEWQ-sY6",
        "colab": {
          "base_uri": "https://localhost:8080/"
        },
        "outputId": "85f6dfe9-8148-4add-bff2-2470151fcf41"
      },
      "execution_count": 10,
      "outputs": [
        {
          "output_type": "stream",
          "name": "stdout",
          "text": [
            "Model saved to /content/drive/MyDrive/NER MODEL/ner_model.pkl\n"
          ]
        }
      ]
    }
  ]
}